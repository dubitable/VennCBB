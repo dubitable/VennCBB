{
 "cells": [
  {
   "cell_type": "code",
   "execution_count": 61,
   "id": "1e1e79a5",
   "metadata": {},
   "outputs": [],
   "source": [
    "import pandas as pd\n",
    "import kagglehub"
   ]
  },
  {
   "cell_type": "code",
   "execution_count": 62,
   "id": "7e01f61a",
   "metadata": {},
   "outputs": [
    {
     "name": "stdout",
     "output_type": "stream",
     "text": [
      "Path to dataset files: /Users/pierrequereuil/.cache/kagglehub/datasets/jonathanpilafas/2024-march-madness-statistical-analysis/versions/26\n"
     ]
    }
   ],
   "source": [
    "path = kagglehub.dataset_download(\"jonathanpilafas/2024-march-madness-statistical-analysis\")\n",
    "print(\"Path to dataset files:\", path)"
   ]
  },
  {
   "cell_type": "code",
   "execution_count": 63,
   "id": "45e5e8cc",
   "metadata": {},
   "outputs": [],
   "source": [
    "rename_cols = {'Adjusted Temo': 'Adjusted Tempo'}\n",
    "df = pd.read_csv(path + '/DEV _ March Madness.csv').rename(columns=rename_cols)"
   ]
  },
  {
   "cell_type": "code",
   "execution_count": 64,
   "id": "0e241d75",
   "metadata": {},
   "outputs": [
    {
     "data": {
      "text/html": [
       "<div>\n",
       "<style scoped>\n",
       "    .dataframe tbody tr th:only-of-type {\n",
       "        vertical-align: middle;\n",
       "    }\n",
       "\n",
       "    .dataframe tbody tr th {\n",
       "        vertical-align: top;\n",
       "    }\n",
       "\n",
       "    .dataframe thead th {\n",
       "        text-align: right;\n",
       "    }\n",
       "</style>\n",
       "<table border=\"1\" class=\"dataframe\">\n",
       "  <thead>\n",
       "    <tr style=\"text-align: right;\">\n",
       "      <th></th>\n",
       "      <th>Mapped ESPN Team Name</th>\n",
       "      <th>Full Team Name</th>\n",
       "    </tr>\n",
       "  </thead>\n",
       "  <tbody>\n",
       "    <tr>\n",
       "      <th>4</th>\n",
       "      <td>UConn</td>\n",
       "      <td>UConn Huskies</td>\n",
       "    </tr>\n",
       "    <tr>\n",
       "      <th>6</th>\n",
       "      <td>Kansas</td>\n",
       "      <td>Kansas Jayhawks</td>\n",
       "    </tr>\n",
       "    <tr>\n",
       "      <th>9</th>\n",
       "      <td>Virginia</td>\n",
       "      <td>Virginia Cavaliers</td>\n",
       "    </tr>\n",
       "    <tr>\n",
       "      <th>10</th>\n",
       "      <td>Baylor</td>\n",
       "      <td>Baylor Bears</td>\n",
       "    </tr>\n",
       "    <tr>\n",
       "      <th>11</th>\n",
       "      <td>Villanova</td>\n",
       "      <td>Villanova Wildcats</td>\n",
       "    </tr>\n",
       "  </tbody>\n",
       "</table>\n",
       "</div>"
      ],
      "text/plain": [
       "   Mapped ESPN Team Name      Full Team Name\n",
       "4                  UConn       UConn Huskies\n",
       "6                 Kansas     Kansas Jayhawks\n",
       "9               Virginia  Virginia Cavaliers\n",
       "10                Baylor        Baylor Bears\n",
       "11             Villanova  Villanova Wildcats"
      ]
     },
     "execution_count": 64,
     "metadata": {},
     "output_type": "execute_result"
    }
   ],
   "source": [
    "winners = df[df[\"Tournament Winner?\"] == \"Yes\"]\n",
    "\n",
    "winners[[\"Mapped ESPN Team Name\", \"Full Team Name\"]].head()"
   ]
  },
  {
   "cell_type": "code",
   "execution_count": 65,
   "id": "7d854d1b",
   "metadata": {},
   "outputs": [
    {
     "data": {
      "text/html": [
       "<div>\n",
       "<style scoped>\n",
       "    .dataframe tbody tr th:only-of-type {\n",
       "        vertical-align: middle;\n",
       "    }\n",
       "\n",
       "    .dataframe tbody tr th {\n",
       "        vertical-align: top;\n",
       "    }\n",
       "\n",
       "    .dataframe thead th {\n",
       "        text-align: right;\n",
       "    }\n",
       "</style>\n",
       "<table border=\"1\" class=\"dataframe\">\n",
       "  <thead>\n",
       "    <tr style=\"text-align: right;\">\n",
       "      <th></th>\n",
       "      <th>ncaa_name</th>\n",
       "      <th>reference_name</th>\n",
       "      <th>name</th>\n",
       "    </tr>\n",
       "  </thead>\n",
       "  <tbody>\n",
       "    <tr>\n",
       "      <th>0</th>\n",
       "      <td>A&amp;M-Corpus Christi</td>\n",
       "      <td>A&amp;M-Corpus Christi</td>\n",
       "      <td>A&amp;M-Corpus Christi</td>\n",
       "    </tr>\n",
       "    <tr>\n",
       "      <th>1</th>\n",
       "      <td>Abilene Christian</td>\n",
       "      <td>Abilene Christian</td>\n",
       "      <td>Abilene Christian Wildcats</td>\n",
       "    </tr>\n",
       "    <tr>\n",
       "      <th>2</th>\n",
       "      <td>Air Force</td>\n",
       "      <td>Air Force</td>\n",
       "      <td>Air Force</td>\n",
       "    </tr>\n",
       "    <tr>\n",
       "      <th>3</th>\n",
       "      <td>Akron</td>\n",
       "      <td>Akron</td>\n",
       "      <td>Akron Zips</td>\n",
       "    </tr>\n",
       "    <tr>\n",
       "      <th>4</th>\n",
       "      <td>Alabama A&amp;M</td>\n",
       "      <td>Alabama A&amp;M</td>\n",
       "      <td>Alabama A&amp;M</td>\n",
       "    </tr>\n",
       "    <tr>\n",
       "      <th>5</th>\n",
       "      <td>Alabama</td>\n",
       "      <td>Alabama</td>\n",
       "      <td>Alabama Crimson Tide</td>\n",
       "    </tr>\n",
       "    <tr>\n",
       "      <th>6</th>\n",
       "      <td>Alabama St.</td>\n",
       "      <td>Alabama State</td>\n",
       "      <td>Alabama State Hornets</td>\n",
       "    </tr>\n",
       "    <tr>\n",
       "      <th>7</th>\n",
       "      <td>Albany (NY)</td>\n",
       "      <td>Albany (NY)</td>\n",
       "      <td>Albany (NY)</td>\n",
       "    </tr>\n",
       "    <tr>\n",
       "      <th>8</th>\n",
       "      <td>Alcorn</td>\n",
       "      <td>Alcorn State</td>\n",
       "      <td>Alcorn</td>\n",
       "    </tr>\n",
       "    <tr>\n",
       "      <th>9</th>\n",
       "      <td>American</td>\n",
       "      <td>American</td>\n",
       "      <td>American Eagles</td>\n",
       "    </tr>\n",
       "  </tbody>\n",
       "</table>\n",
       "</div>"
      ],
      "text/plain": [
       "            ncaa_name      reference_name                        name\n",
       "0  A&M-Corpus Christi  A&M-Corpus Christi          A&M-Corpus Christi\n",
       "1   Abilene Christian  Abilene Christian   Abilene Christian Wildcats\n",
       "2           Air Force           Air Force                   Air Force\n",
       "3               Akron               Akron                  Akron Zips\n",
       "4         Alabama A&M         Alabama A&M                 Alabama A&M\n",
       "5             Alabama            Alabama         Alabama Crimson Tide\n",
       "6         Alabama St.       Alabama State       Alabama State Hornets\n",
       "7         Albany (NY)         Albany (NY)                 Albany (NY)\n",
       "8              Alcorn        Alcorn State                      Alcorn\n",
       "9            American            American             American Eagles"
      ]
     },
     "execution_count": 65,
     "metadata": {},
     "output_type": "execute_result"
    }
   ],
   "source": [
    "logos = pd.read_csv(\"https://raw.githubusercontent.com/IvoVillanueva/ncaa_logos/main/logos_2.csv\")\n",
    "\n",
    "logos[[\"ncaa_name\", \"reference_name\", \"name\"]].head(n=10)"
   ]
  },
  {
   "cell_type": "code",
   "execution_count": 66,
   "id": "5632cea7",
   "metadata": {},
   "outputs": [
    {
     "data": {
      "text/plain": [
       "1510                      IU Indy Jaguars\n",
       "3127                   St. Thomas Tommies\n",
       "3610               Utah Tech Trailblazers\n",
       "4241                                  NaN\n",
       "4585                        Queens Royals\n",
       "6437    Southern Indiana Screaming Eagles\n",
       "6796                    Le Moyne Dolphins\n",
       "6859                 East Texas A&M Lions\n",
       "7405                   Stonehill Skyhawks\n",
       "7459                     Lindenwood Lions\n",
       "7814                    Mercyhurst Lakers\n",
       "7907                  West Georgia Wolves\n",
       "Name: Full Team Name, dtype: object"
      ]
     },
     "execution_count": 66,
     "metadata": {},
     "output_type": "execute_result"
    }
   ],
   "source": [
    "logos = pd.read_csv(\"logos.csv\")\n",
    "\n",
    "mapped_merge = df.merge(logos, how=\"left\", left_on=\"Mapped ESPN Team Name\", right_on=\"reference_name\")\n",
    "full_merge = df.merge(logos, how=\"left\", left_on=\"Full Team Name\", right_on=\"name\")\n",
    "last_merge = df.merge(logos, how=\"left\", left_on=\"Mapped ESPN Team Name\", right_on=\"name\")\n",
    "\n",
    "df[[\"Full Team Name\", \"Mapped ESPN Team Name\"]].to_csv(\"df.csv\")\n",
    "\n",
    "merged = df.copy()\n",
    "merged[\"logos\"] = mapped_merge[\"logos\"].combine_first(full_merge[\"logos\"]).combine_first(last_merge[\"logos\"])\n",
    "\n",
    "merged[merged[\"logos\"].isna()][\"Full Team Name\"].drop_duplicates()"
   ]
  },
  {
   "cell_type": "code",
   "execution_count": 67,
   "id": "e7ce032b",
   "metadata": {},
   "outputs": [
    {
     "data": {
      "text/plain": [
       "8315"
      ]
     },
     "execution_count": 67,
     "metadata": {},
     "output_type": "execute_result"
    }
   ],
   "source": [
    "import sqlite3\n",
    "\n",
    "con = sqlite3.connect(\"venncbb/prisma/dev.db\")\n",
    "\n",
    "merged.to_sql(\"Team\", con, index_label = \"id\", if_exists=\"replace\")"
   ]
  }
 ],
 "metadata": {
  "kernelspec": {
   "display_name": ".venv",
   "language": "python",
   "name": "python3"
  },
  "language_info": {
   "codemirror_mode": {
    "name": "ipython",
    "version": 3
   },
   "file_extension": ".py",
   "mimetype": "text/x-python",
   "name": "python",
   "nbconvert_exporter": "python",
   "pygments_lexer": "ipython3",
   "version": "3.13.5"
  }
 },
 "nbformat": 4,
 "nbformat_minor": 5
}
